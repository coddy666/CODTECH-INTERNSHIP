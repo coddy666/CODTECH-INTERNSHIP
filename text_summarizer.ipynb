{
  "nbformat": 4,
  "nbformat_minor": 0,
  "metadata": {
    "colab": {
      "provenance": [],
      "authorship_tag": "ABX9TyPwNpDm8ZjCCu4MFf1DeIdM",
      "include_colab_link": true
    },
    "kernelspec": {
      "name": "python3",
      "display_name": "Python 3"
    },
    "language_info": {
      "name": "python"
    }
  },
  "cells": [
    {
      "cell_type": "markdown",
      "metadata": {
        "id": "view-in-github",
        "colab_type": "text"
      },
      "source": [
        "<a href=\"https://colab.research.google.com/github/coddy666/CODTECH-INTERNSHIP/blob/main/text_summarizer.ipynb\" target=\"_parent\"><img src=\"https://colab.research.google.com/assets/colab-badge.svg\" alt=\"Open In Colab\"/></a>"
      ]
    },
    {
      "cell_type": "code",
      "execution_count": null,
      "metadata": {
        "colab": {
          "base_uri": "https://localhost:8080/"
        },
        "id": "PJ-JDQNgeOpS",
        "outputId": "585d4e5a-53e8-418d-ce40-17727d635cd6"
      },
      "outputs": [
        {
          "output_type": "stream",
          "name": "stderr",
          "text": [
            "Device set to use cpu\n"
          ]
        },
        {
          "output_type": "stream",
          "name": "stdout",
          "text": [
            "Original Text:\n",
            " \n",
            "Artificial Intelligence (AI) has rapidly transformed from a niche area of computer science into a central component of modern technology. From voice assistants like Alexa and Siri to recommendation engines on Netflix and YouTube, AI is powering the tools we use every day. In healthcare, AI is being used to analyze complex medical data, helping doctors to make more accurate diagnoses and even predict the onset of diseases. For instance, machine learning algorithms can now scan thousands of medical images and highlight potential anomalies with higher precision than the human eye.\n",
            "\n",
            "In the business world, AI is automating repetitive tasks, analyzing customer behavior, and improving decision-making through predictive analytics. Financial institutions use AI to detect fraudulent transactions, while retailers use it to optimize supply chains and personalize shopping experiences. The transportation industry is also being revolutionized by AI, with autonomous vehicles and traffic management systems becoming more sophisticated with each passing year.\n",
            "\n",
            "Despite these advancements, AI also raises important ethical and societal questions. There are concerns about data privacy, algorithmic bias, job displacement, and the growing concentration of AI capabilities among a few large tech companies. Governments and organizations around the world are beginning to implement regulations to ensure that AI technologies are used responsibly.\n",
            "\n",
            "Education is another domain where AI is beginning to show promise. Adaptive learning platforms can tailor educational content to the needs of individual students, while AI tutors can provide 24/7 assistance to learners. At the same time, educators are exploring how AI can support administrative tasks and streamline classroom management.\n",
            "\n",
            "As AI continues to evolve, its integration into daily life will become even more seamless. The challenge ahead lies in harnessing its power while ensuring transparency, fairness, and human oversight. With the right frameworks, AI can augment human intelligence and create a more efficient, equitable, and intelligent future.\n",
            "\n",
            "\n",
            "Summary:\n",
            " Artificial Intelligence (AI) has rapidly transformed from a niche area of computer science into a central component of modern technology. From voice assistants like Alexa and Siri to recommendation engines on Netflix and YouTube, AI is powering the tools we use every day. Despite these advancements, AI also raises important ethical and societal questions.\n"
          ]
        }
      ],
      "source": [
        "from transformers import pipeline\n",
        "\n",
        "# This is a stable model with PyTorch support\n",
        "summarizer = pipeline(\"summarization\", model=\"facebook/bart-large-cnn\")\n",
        "\n",
        "def summarize_text(text):\n",
        "    summary = summarizer(text, max_length=130, min_length=30, do_sample=False)\n",
        "    return summary[0]['summary_text']\n",
        "\n",
        "# Input text\n",
        "input_text = \"\"\"\n",
        "Artificial Intelligence (AI) has rapidly transformed from a niche area of computer science into a central component of modern technology. From voice assistants like Alexa and Siri to recommendation engines on Netflix and YouTube, AI is powering the tools we use every day. In healthcare, AI is being used to analyze complex medical data, helping doctors to make more accurate diagnoses and even predict the onset of diseases. For instance, machine learning algorithms can now scan thousands of medical images and highlight potential anomalies with higher precision than the human eye.\n",
        "\n",
        "In the business world, AI is automating repetitive tasks, analyzing customer behavior, and improving decision-making through predictive analytics. Financial institutions use AI to detect fraudulent transactions, while retailers use it to optimize supply chains and personalize shopping experiences. The transportation industry is also being revolutionized by AI, with autonomous vehicles and traffic management systems becoming more sophisticated with each passing year.\n",
        "\n",
        "Despite these advancements, AI also raises important ethical and societal questions. There are concerns about data privacy, algorithmic bias, job displacement, and the growing concentration of AI capabilities among a few large tech companies. Governments and organizations around the world are beginning to implement regulations to ensure that AI technologies are used responsibly.\n",
        "\n",
        "Education is another domain where AI is beginning to show promise. Adaptive learning platforms can tailor educational content to the needs of individual students, while AI tutors can provide 24/7 assistance to learners. At the same time, educators are exploring how AI can support administrative tasks and streamline classroom management.\n",
        "\n",
        "As AI continues to evolve, its integration into daily life will become even more seamless. The challenge ahead lies in harnessing its power while ensuring transparency, fairness, and human oversight. With the right frameworks, AI can augment human intelligence and create a more efficient, equitable, and intelligent future.\n",
        "\"\"\"\n",
        "\n",
        "print(\"Original Text:\\n\", input_text)\n",
        "print(\"\\nSummary:\\n\", summarize_text(input_text))"
      ]
    }
  ]
}